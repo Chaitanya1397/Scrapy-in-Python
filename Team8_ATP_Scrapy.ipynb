{
 "cells": [
  {
   "attachments": {
    "16d396bc-6858-4329-b5f6-4ff1b23b6b9d.webp": {
     "image/webp": "[encoded data removed]"
    }
   },
   "cell_type": "markdown",
   "id": "ceabc600-154f-4af6-9a54-585c131a278f",
   "metadata": {},
   "source": [
    "![1_7KVe2szj1rjt1_Jlmdznkw.webp](attachment:16d396bc-6858-4329-b5f6-4ff1b23b6b9d.webp)\n"
   ]
  },
  {
   "cell_type": "markdown",
   "id": "10424641-d54c-4d16-a5ec-0e81462fbc57",
   "metadata": {},
   "source": [
    "# Web Scraping with Scrapy and Python\n",
    "This notebook demonstrates the process of web scraping using Scrapy, a popular Python framework for extracting data from websites. We focus on scraping data from 'Shopclues' in the mobiles featured store section.\n"
   ]
  },
  {
   "cell_type": "code",
   "execution_count": 10,
   "id": "2fa35f97-2d17-470c-b043-45414efda483",
   "metadata": {
    "tags": []
   },
   "outputs": [
    {
     "name": "stdout",
     "output_type": "stream",
     "text": [
      "Requirement already satisfied: scrapy in /opt/conda/lib/python3.11/site-packages (2.11.0)\n",
      "Requirement already satisfied: Twisted<23.8.0,>=18.9.0 in /opt/conda/lib/python3.11/site-packages (from scrapy) (22.10.0)\n",
      "Requirement already satisfied: cryptography>=36.0.0 in /opt/conda/lib/python3.11/site-packages (from scrapy) (41.0.1)\n",
      "Requirement already satisfied: cssselect>=0.9.1 in /opt/conda/lib/python3.11/site-packages (from scrapy) (1.2.0)\n",
      "Requirement already satisfied: itemloaders>=1.0.1 in /opt/conda/lib/python3.11/site-packages (from scrapy) (1.1.0)\n",
      "Requirement already satisfied: parsel>=1.5.0 in /opt/conda/lib/python3.11/site-packages (from scrapy) (1.8.1)\n",
      "Requirement already satisfied: pyOpenSSL>=21.0.0 in /opt/conda/lib/python3.11/site-packages (from scrapy) (23.2.0)\n",
      "Requirement already satisfied: queuelib>=1.4.2 in /opt/conda/lib/python3.11/site-packages (from scrapy) (1.6.2)\n",
      "Requirement already satisfied: service-identity>=18.1.0 in /opt/conda/lib/python3.11/site-packages (from scrapy) (23.1.0)\n",
      "Requirement already satisfied: w3lib>=1.17.0 in /opt/conda/lib/python3.11/site-packages (from scrapy) (2.1.2)\n",
      "Requirement already satisfied: zope.interface>=5.1.0 in /opt/conda/lib/python3.11/site-packages (from scrapy) (6.1)\n",
      "Requirement already satisfied: protego>=0.1.15 in /opt/conda/lib/python3.11/site-packages (from scrapy) (0.3.0)\n",
      "Requirement already satisfied: itemadapter>=0.1.0 in /opt/conda/lib/python3.11/site-packages (from scrapy) (0.8.0)\n",
      "Requirement already satisfied: setuptools in /opt/conda/lib/python3.11/site-packages (from scrapy) (67.7.2)\n",
      "Requirement already satisfied: packaging in /opt/conda/lib/python3.11/site-packages (from scrapy) (23.1)\n",
      "Requirement already satisfied: tldextract in /opt/conda/lib/python3.11/site-packages (from scrapy) (5.1.0)\n",
      "Requirement already satisfied: lxml>=4.4.1 in /home/jovyan/.local/lib/python3.11/site-packages (from scrapy) (4.9.3)\n",
      "Requirement already satisfied: PyDispatcher>=2.0.5 in /opt/conda/lib/python3.11/site-packages (from scrapy) (2.0.7)\n",
      "Requirement already satisfied: cffi>=1.12 in /opt/conda/lib/python3.11/site-packages (from cryptography>=36.0.0->scrapy) (1.15.1)\n",
      "Requirement already satisfied: jmespath>=0.9.5 in /opt/conda/lib/python3.11/site-packages (from itemloaders>=1.0.1->scrapy) (1.0.1)\n",
      "Requirement already satisfied: attrs>=19.1.0 in /opt/conda/lib/python3.11/site-packages (from service-identity>=18.1.0->scrapy) (23.1.0)\n",
      "Requirement already satisfied: pyasn1 in /opt/conda/lib/python3.11/site-packages (from service-identity>=18.1.0->scrapy) (0.5.0)\n",
      "Requirement already satisfied: pyasn1-modules in /opt/conda/lib/python3.11/site-packages (from service-identity>=18.1.0->scrapy) (0.3.0)\n",
      "Requirement already satisfied: constantly>=15.1 in /opt/conda/lib/python3.11/site-packages (from Twisted<23.8.0,>=18.9.0->scrapy) (23.10.4)\n",
      "Requirement already satisfied: incremental>=21.3.0 in /opt/conda/lib/python3.11/site-packages (from Twisted<23.8.0,>=18.9.0->scrapy) (22.10.0)\n",
      "Requirement already satisfied: Automat>=0.8.0 in /opt/conda/lib/python3.11/site-packages (from Twisted<23.8.0,>=18.9.0->scrapy) (22.10.0)\n",
      "Requirement already satisfied: hyperlink>=17.1.1 in /opt/conda/lib/python3.11/site-packages (from Twisted<23.8.0,>=18.9.0->scrapy) (21.0.0)\n",
      "Requirement already satisfied: typing-extensions>=3.6.5 in /opt/conda/lib/python3.11/site-packages (from Twisted<23.8.0,>=18.9.0->scrapy) (4.6.3)\n",
      "Requirement already satisfied: idna in /opt/conda/lib/python3.11/site-packages (from tldextract->scrapy) (3.4)\n",
      "Requirement already satisfied: requests>=2.1.0 in /opt/conda/lib/python3.11/site-packages (from tldextract->scrapy) (2.31.0)\n",
      "Requirement already satisfied: requests-file>=1.4 in /opt/conda/lib/python3.11/site-packages (from tldextract->scrapy) (1.5.1)\n",
      "Requirement already satisfied: filelock>=3.0.8 in /opt/conda/lib/python3.11/site-packages (from tldextract->scrapy) (3.13.1)\n",
      "Requirement already satisfied: six in /opt/conda/lib/python3.11/site-packages (from Automat>=0.8.0->Twisted<23.8.0,>=18.9.0->scrapy) (1.16.0)\n",
      "Requirement already satisfied: pycparser in /opt/conda/lib/python3.11/site-packages (from cffi>=1.12->cryptography>=36.0.0->scrapy) (2.21)\n",
      "Requirement already satisfied: charset-normalizer<4,>=2 in /opt/conda/lib/python3.11/site-packages (from requests>=2.1.0->tldextract->scrapy) (3.1.0)\n",
      "Requirement already satisfied: urllib3<3,>=1.21.1 in /opt/conda/lib/python3.11/site-packages (from requests>=2.1.0->tldextract->scrapy) (2.0.2)\n",
      "Requirement already satisfied: certifi>=2017.4.17 in /opt/conda/lib/python3.11/site-packages (from requests>=2.1.0->tldextract->scrapy) (2023.5.7)\n"
     ]
    }
   ],
   "source": [
    "# Install the Scrapy package necessary for web scraping\n",
    "!pip install scrapy"
   ]
  },
  {
   "cell_type": "markdown",
   "id": "0ee44c57-1f53-4666-8695-b029a08a4bfa",
   "metadata": {},
   "source": [
    "# Shopclues Web Scraper\n",
    "This script defines a Scrapy spider named `ShopcluesSpider` for scraping product data from Shopclues' 4G smartphone section. The scraped data includes product titles, prices, image URLs, and discounts.\n"
   ]
  },
  {
   "cell_type": "code",
   "execution_count": 12,
   "id": "ea0d11f9-fa23-4bef-b02b-03dc2ec6a79f",
   "metadata": {
    "tags": []
   },
   "outputs": [
    {
     "name": "stdout",
     "output_type": "stream",
     "text": [
      "Created spider 'shopclues' using template 'basic' \n"
     ]
    }
   ],
   "source": [
    "# Generate a new Scrapy spider for the specified website\n",
    "!scrapy genspider shopclues www.shopclues.com/mobiles-featured-store-4g-smartphone.html"
   ]
  },
  {
   "cell_type": "code",
   "execution_count": 13,
   "id": "ec8afb39-8328-48b8-9c5e-66b37c05f680",
   "metadata": {
    "tags": []
   },
   "outputs": [],
   "source": [
    "# Import necessary libraries for web scraping\n",
    "import requests\n",
    "from scrapy import Selector\n",
    "\n"
   ]
  },
  {
   "cell_type": "code",
   "execution_count": null,
   "id": "3811663d-e119-474a-a88e-839dd6163d21",
   "metadata": {},
   "outputs": [],
   "source": [
    "# Define the URL of the webpage to scrape\n",
    "url = 'https://www.shopclues.com/mobiles-featured-store-4g-smartphone.html'\n",
    "\n",
    "# Fetch the HTML content of the webpage\n",
    "html_content = requests.get(url).text\n",
    "response = Selector(text=html_content)\n",
    "\n",
    "# Extract data from the webpage\n",
    "# Extracting Images\n",
    "data_images = response.css(\"img::attr(data-img)\").extract()\n",
    "\n",
    "# Extracting Titles\n",
    "titles = response.css(\"img::attr(title)\").extract()\n",
    "\n",
    "# Extracting Prices\n",
    "prices = response.css(\".p_price::text\").extract()\n",
    "\n",
    "# Extracting Discounts\n",
    "discounts = response.css(\".prd_discount::text\").extract()\n"
   ]
  },
  {
   "cell_type": "code",
   "execution_count": 17,
   "id": "3a81d8b4-7449-4e11-b60d-eed8037a7a6a",
   "metadata": {
    "tags": []
   },
   "outputs": [
    {
     "name": "stdout",
     "output_type": "stream",
     "text": [
      "Writing shopclues_spider.py\n"
     ]
    }
   ],
   "source": [
    "%%writefile shopclues_spider.py\n",
    "import scrapy\n",
    "from scrapy.crawler import CrawlerProcess\n",
    "\n",
    "# Define the ShopcluesSpider class which inherits from scrapy.Spider\n",
    "class ShopcluesSpider(scrapy.Spider):\n",
    "    name = 'shopclues' # Name of the spider\n",
    "    allowed_domains = ['shopclues.com'] # Restrict spider to this domain\n",
    "    start_urls = ['https://www.shopclues.com/mobiles-featured-store-4g-smartphone.html'] # URL to start scraping from\n",
    "\n",
    "    def parse(self, response):\n",
    "        # Extracting product details from the page\n",
    "        titles = response.css('img::attr(title)').extract() # Extract product titles\n",
    "        images = response.css('img::attr(data-img)').extract() # Extract image URLs\n",
    "        prices = response.css('.p_price::text').extract() # Extract product prices\n",
    "        discounts = response.css('.prd_discount::text').extract() # Extract discount information\n",
    "\n",
    "        # Zip all extracted details and yield as individual items\n",
    "        for item in zip(titles, prices, images, discounts):\n",
    "            scraped_info = {\n",
    "                'title': item[0],\n",
    "                'price': item[1],\n",
    "                'image_urls': [item[2]],\n",
    "                'discount': item[3]\n",
    "            }\n",
    "\n",
    "            yield scraped_info\n",
    "\n",
    "# Setting up and starting the scraping process\n",
    "process = CrawlerProcess(settings={\n",
    "    'FEED_URI': 'shopclues.csv', # Output file\n",
    "    'FEED_FORMAT': 'csv' # Output format\n",
    "})\n",
    "\n",
    "process.crawl(ShopcluesSpider) # Initiate crawl with ShopcluesSpider\n",
    "process.start() # Start the scraping process\n"
   ]
  },
  {
   "cell_type": "markdown",
   "id": "3610f3f5-34d8-47bd-b5ab-c4ab7880c605",
   "metadata": {},
   "source": [
    "## Execution and Output\n",
    "The script initiates the scraping process using `CrawlerProcess` and crawls the `ShopcluesSpider`. The scraped data is stored in a CSV file named `shopclues.csv`. This output can be used for further data analysis or integration into other applications.\n"
   ]
  },
  {
   "cell_type": "code",
   "execution_count": 18,
   "id": "e761078a-5370-4d0c-b73d-d45f0a1b2b0e",
   "metadata": {
    "tags": []
   },
   "outputs": [
    {
     "name": "stdout",
     "output_type": "stream",
     "text": [
      "2023-11-13 17:29:21 [scrapy.utils.log] INFO: Scrapy 2.11.0 started (bot: scrapybot)\n",
      "2023-11-13 17:29:21 [scrapy.utils.log] INFO: Versions: lxml 4.9.3.0, libxml2 2.10.3, cssselect 1.2.0, parsel 1.8.1, w3lib 2.1.2, Twisted 22.10.0, Python 3.11.3 | packaged by conda-forge | (main, Apr  6 2023, 08:57:19) [GCC 11.3.0], pyOpenSSL 23.2.0 (OpenSSL 3.1.1 30 May 2023), cryptography 41.0.1, Platform Linux-5.15.0-78-generic-x86_64-with-glibc2.35\n",
      "2023-11-13 17:29:21 [scrapy.addons] INFO: Enabled addons:\n",
      "[]\n",
      "2023-11-13 17:29:21 [py.warnings] WARNING: /opt/conda/lib/python3.11/site-packages/scrapy/utils/request.py:254: ScrapyDeprecationWarning: '2.6' is a deprecated value for the 'REQUEST_FINGERPRINTER_IMPLEMENTATION' setting.\n",
      "\n",
      "It is also the default value. In other words, it is normal to get this warning if you have not defined a value for the 'REQUEST_FINGERPRINTER_IMPLEMENTATION' setting. This is so for backward compatibility reasons, but it will change in a future version of Scrapy.\n",
      "\n",
      "See the documentation of the 'REQUEST_FINGERPRINTER_IMPLEMENTATION' setting for information on how to handle this deprecation.\n",
      "  return cls(crawler)\n",
      "\n",
      "2023-11-13 17:29:21 [scrapy.utils.log] DEBUG: Using reactor: twisted.internet.epollreactor.EPollReactor\n",
      "2023-11-13 17:29:21 [scrapy.extensions.telnet] INFO: Telnet Password: 3ff5eebcb377e41d\n",
      "2023-11-13 17:29:21 [py.warnings] WARNING: /opt/conda/lib/python3.11/site-packages/scrapy/extensions/feedexport.py:406: ScrapyDeprecationWarning: The `FEED_URI` and `FEED_FORMAT` settings have been deprecated in favor of the `FEEDS` setting. Please see the `FEEDS` setting docs for more details\n",
      "  exporter = cls(crawler)\n",
      "\n",
      "2023-11-13 17:29:21 [scrapy.middleware] INFO: Enabled extensions:\n",
      "['scrapy.extensions.corestats.CoreStats',\n",
      " 'scrapy.extensions.telnet.TelnetConsole',\n",
      " 'scrapy.extensions.memusage.MemoryUsage',\n",
      " 'scrapy.extensions.feedexport.FeedExporter',\n",
      " 'scrapy.extensions.logstats.LogStats']\n",
      "2023-11-13 17:29:21 [scrapy.crawler] INFO: Overridden settings:\n",
      "{}\n",
      "2023-11-13 17:29:21 [scrapy.middleware] INFO: Enabled downloader middlewares:\n",
      "['scrapy.downloadermiddlewares.httpauth.HttpAuthMiddleware',\n",
      " 'scrapy.downloadermiddlewares.downloadtimeout.DownloadTimeoutMiddleware',\n",
      " 'scrapy.downloadermiddlewares.defaultheaders.DefaultHeadersMiddleware',\n",
      " 'scrapy.downloadermiddlewares.useragent.UserAgentMiddleware',\n",
      " 'scrapy.downloadermiddlewares.retry.RetryMiddleware',\n",
      " 'scrapy.downloadermiddlewares.redirect.MetaRefreshMiddleware',\n",
      " 'scrapy.downloadermiddlewares.httpcompression.HttpCompressionMiddleware',\n",
      " 'scrapy.downloadermiddlewares.redirect.RedirectMiddleware',\n",
      " 'scrapy.downloadermiddlewares.cookies.CookiesMiddleware',\n",
      " 'scrapy.downloadermiddlewares.httpproxy.HttpProxyMiddleware',\n",
      " 'scrapy.downloadermiddlewares.stats.DownloaderStats']\n",
      "2023-11-13 17:29:21 [scrapy.middleware] INFO: Enabled spider middlewares:\n",
      "['scrapy.spidermiddlewares.httperror.HttpErrorMiddleware',\n",
      " 'scrapy.spidermiddlewares.offsite.OffsiteMiddleware',\n",
      " 'scrapy.spidermiddlewares.referer.RefererMiddleware',\n",
      " 'scrapy.spidermiddlewares.urllength.UrlLengthMiddleware',\n",
      " 'scrapy.spidermiddlewares.depth.DepthMiddleware']\n",
      "2023-11-13 17:29:21 [scrapy.middleware] INFO: Enabled item pipelines:\n",
      "[]\n",
      "2023-11-13 17:29:21 [scrapy.core.engine] INFO: Spider opened\n",
      "2023-11-13 17:29:21 [scrapy.extensions.logstats] INFO: Crawled 0 pages (at 0 pages/min), scraped 0 items (at 0 items/min)\n",
      "2023-11-13 17:29:21 [scrapy.extensions.telnet] INFO: Telnet console listening on 127.0.0.1:6023\n",
      "2023-11-13 17:29:22 [scrapy.downloadermiddlewares.redirect] DEBUG: Redirecting (302) to <GET https://www.shopclues.com/mobiles-and-tablets.html> from <GET https://www.shopclues.com/mobiles-featured-store-4g-smartphone.html>\n",
      "2023-11-13 17:29:23 [scrapy.core.engine] DEBUG: Crawled (200) <GET https://www.shopclues.com/mobiles-and-tablets.html> (referer: None)\n",
      "2023-11-13 17:29:23 [scrapy.core.scraper] DEBUG: Scraped from <200 https://www.shopclues.com/mobiles-and-tablets.html>\n",
      "{'title': 'MTR MT312 Dual Sim Feature Phone', 'price': '₹789                                    ', 'image_urls': ['https://cdn.shopclues.com/images1/thumbnails/74865/280/1/131046271-74865163-1681798927.jpg'], 'discount': '74% Off'}\n",
      "2023-11-13 17:29:23 [scrapy.core.scraper] DEBUG: Scraped from <200 https://www.shopclues.com/mobiles-and-tablets.html>\n",
      "{'title': 'ONEME 312 Dual Sim,1.8 Inch Display,850 MaH Battery Mobile Phone', 'price': '₹669                                    ', 'image_urls': ['https://cdn.shopclues.com/images1/thumbnails/79076/280/1/134308473-79076516-1677060116.jpg'], 'discount': '33% Off'}\n",
      "2023-11-13 17:29:23 [scrapy.core.scraper] DEBUG: Scraped from <200 https://www.shopclues.com/mobiles-and-tablets.html>\n",
      "{'title': '(Refurbished) Nokia 1600 (Single SIM, 1.4 Inch Display, Black) - Superb Condition, Like New', 'price': '₹1,219                                    ', 'image_urls': ['https://cdn.shopclues.com/images1/thumbnails/100740/280/1/146388171-100740822-1685355764.jpg'], 'discount': '47% Off'}\n",
      "2023-11-13 17:29:23 [scrapy.core.scraper] DEBUG: Scraped from <200 https://www.shopclues.com/mobiles-and-tablets.html>\n",
      "{'title': '(Refurbished) Nokia 2220, (Single SIM , 1.8 Inch Display, Assorted Color) - Superb Condition, Like New', 'price': '₹1,639                                    ', 'image_urls': ['https://cdn.shopclues.com/images1/thumbnails/104955/280/1/148961798-104955503-1685351253.jpg'], 'discount': '45% Off'}\n",
      "2023-11-13 17:29:23 [scrapy.core.scraper] DEBUG: Scraped from <200 https://www.shopclues.com/mobiles-and-tablets.html>\n",
      "{'title': '(Refurbished) Nokia 1100 (Single SIM, 1.2 Inch Display, Assorted) - Superb Condition, Like New', 'price': '₹1,299                                    ', 'image_urls': ['https://cdn.shopclues.com/images1/thumbnails/97673/280/1/144264990-97673863-1685349153.jpg'], 'discount': '68% Off'}\n",
      "2023-11-13 17:29:23 [scrapy.core.scraper] DEBUG: Scraped from <200 https://www.shopclues.com/mobiles-and-tablets.html>\n",
      "{'title': 'Pear P310 Dual Sim 1.8 inches (4.57 cm) Display Feature Phone', 'price': '₹669                                    ', 'image_urls': ['https://cdn.shopclues.com/images1/thumbnails/95955/280/1/143119339-95955606-1677244935.jpg'], 'discount': '33% Off'}\n",
      "2023-11-13 17:29:23 [scrapy.core.scraper] DEBUG: Scraped from <200 https://www.shopclues.com/mobiles-and-tablets.html>\n",
      "{'title': 'MTR FARARI 2.4 Inches(6.1cm) Display Dual Sim Feature Phone', 'price': '₹1,399                                    ', 'image_urls': ['https://cdn.shopclues.com/images1/thumbnails/101364/280/1/146813242-101364970-1681798930.jpg'], 'discount': '30% Off'}\n",
      "2023-11-13 17:29:23 [scrapy.core.scraper] DEBUG: Scraped from <200 https://www.shopclues.com/mobiles-and-tablets.html>\n",
      "{'title': 'MTR MT310 Dual Sim 1.8 inches (4.57 cm) Display Feature Phone', 'price': '₹779                                    ', 'image_urls': ['https://cdn.shopclues.com/images1/thumbnails/81476/280/1/135627858-81476269-1665754103.jpg'], 'discount': '22% Off'}\n",
      "2023-11-13 17:29:23 [scrapy.core.scraper] DEBUG: Scraped from <200 https://www.shopclues.com/mobiles-and-tablets.html>\n",
      "{'title': '(Refurbished) Nokia 1100 (Single Sim, 1.2 inches Display) Superb Condition, Like New', 'price': '₹1,299                                    ', 'image_urls': ['https://cdn.shopclues.com/images1/thumbnails/84473/280/1/136843185-84473387-1672732755.jpg'], 'discount': '84% Off'}\n",
      "2023-11-13 17:29:23 [scrapy.core.scraper] DEBUG: Scraped from <200 https://www.shopclues.com/mobiles-and-tablets.html>\n",
      "{'title': '(Refurbished) Nokia 1110i (Single Sim, 1.2 inches Display, Assorted Color) - Superb Condition, Like New', 'price': '₹799                                    ', 'image_urls': ['https://cdn.shopclues.com/images1/thumbnails/102703/280/1/147769079-102703397-1685351272.jpg'], 'discount': '73% Off'}\n",
      "2023-11-13 17:29:23 [scrapy.core.scraper] DEBUG: Scraped from <200 https://www.shopclues.com/mobiles-and-tablets.html>\n",
      "{'title': 'MTR 312 Dual Sim Blue 1.8 inch Feature Phone', 'price': '₹799                                    ', 'image_urls': ['https://cdn.shopclues.com/images1/thumbnails/100209/280/1/146063452-100209658-1677300775.jpg'], 'discount': '33% Off'}\n",
      "2023-11-13 17:29:23 [scrapy.core.scraper] DEBUG: Scraped from <200 https://www.shopclues.com/mobiles-and-tablets.html>\n",
      "{'title': 'Pear P310 Dual Sim Feature Phone', 'price': '₹729                                    ', 'image_urls': ['https://cdn.shopclues.com/images1/thumbnails/95955/280/1/143119381-95955649-1677245329.jpg'], 'discount': '46% Off'}\n",
      "2023-11-13 17:29:23 [scrapy.core.scraper] DEBUG: Scraped from <200 https://www.shopclues.com/mobiles-and-tablets.html>\n",
      "{'title': '(Refurbished) Nokia 1616 (Single Sim, 1.8 inches Display, Assorted Color) Superb Condition, Like New', 'price': '₹1,239                                    ', 'image_urls': ['https://cdn.shopclues.com/images1/thumbnails/45146/280/1/118414333-45146821-1685354834.jpg'], 'discount': '46% Off'}\n",
      "2023-11-13 17:29:23 [scrapy.core.scraper] DEBUG: Scraped from <200 https://www.shopclues.com/mobiles-and-tablets.html>\n",
      "{'title': '(Refurbished) Nokia 1616 (Single Sim, 1.8 inches Display, Assorted Color) Superb Condition, Like New', 'price': '₹1,239                                    ', 'image_urls': ['https://cdn.shopclues.com/images1/thumbnails/111107/280/1/151123596-111107514-1685350035.jpg'], 'discount': '46% Off'}\n",
      "2023-11-13 17:29:23 [scrapy.core.scraper] DEBUG: Scraped from <200 https://www.shopclues.com/mobiles-and-tablets.html>\n",
      "{'title': '(Refurbished) Nokia 1616 (Single Sim, 1.8 inches Display, Assorted Color) Superb Condition, Like New', 'price': '₹1,239                                    ', 'image_urls': ['https://cdn.shopclues.com/images1/thumbnails/111747/280/1/151309132-111747932-1685353088.jpg'], 'discount': '46% Off'}\n",
      "2023-11-13 17:29:23 [scrapy.core.scraper] DEBUG: Scraped from <200 https://www.shopclues.com/mobiles-and-tablets.html>\n",
      "{'title': 'MTR MT312 (Dual Sim, 1.8 Inch Display, 800 Mah Battery)', 'price': '₹789                                    ', 'image_urls': ['https://cdn.shopclues.com/images1/thumbnails/74864/280/1/131046191-74864951-1677301056.jpg'], 'discount': '21% Off'}\n",
      "2023-11-13 17:29:23 [scrapy.core.scraper] DEBUG: Scraped from <200 https://www.shopclues.com/mobiles-and-tablets.html>\n",
      "{'title': '(Refurbished) Samsung 1200 (Single SIM, 1.5 Inch Display, Black) - Superb Condition, Like New', 'price': '₹1,529                                    ', 'image_urls': ['https://cdn.shopclues.com/images1/thumbnails/104955/280/1/148961845-104955507-1685353664.jpg'], 'discount': '41% Off'}\n",
      "2023-11-13 17:29:23 [scrapy.core.scraper] DEBUG: Scraped from <200 https://www.shopclues.com/mobiles-and-tablets.html>\n",
      "{'title': '(Refurbished) Nokia 1110i (Single Sim, 1.2 inches Display, Assorted Color) - Superb Condition, Like New', 'price': '₹799                                    ', 'image_urls': ['https://cdn.shopclues.com/images1/thumbnails/107459/280/1/149946813-107459446-1685350059.jpg'], 'discount': '73% Off'}\n",
      "2023-11-13 17:29:23 [scrapy.core.scraper] DEBUG: Scraped from <200 https://www.shopclues.com/mobiles-and-tablets.html>\n",
      "{'title': '(Refurbished) Nokia 1100 (Single SIM, 1.2 Inch Display, Assorted) - Superb Condition, Like New', 'price': '₹1,299                                    ', 'image_urls': ['https://cdn.shopclues.com/images1/thumbnails/56749/280/1/86382320-56749603-1685349138.jpg'], 'discount': '52% Off'}\n",
      "2023-11-13 17:29:23 [scrapy.core.scraper] DEBUG: Scraped from <200 https://www.shopclues.com/mobiles-and-tablets.html>\n",
      "{'title': '(Refurbished) Samsung Guru E1200 (Single Sim, 1.5 inches Display) Superb Condition, Like New', 'price': '₹1,529                                    ', 'image_urls': ['https://cdn.shopclues.com/images1/thumbnails/92896/280/1/141090301-92896217-1628491282.jpg'], 'discount': '24% Off'}\n",
      "2023-11-13 17:29:23 [scrapy.core.scraper] DEBUG: Scraped from <200 https://www.shopclues.com/mobiles-and-tablets.html>\n",
      "{'title': '(Refurbished) Nokia 1616 (Single Sim, 1.8 inches Display) Superb Condition, Like New', 'price': '₹1,239                                    ', 'image_urls': ['https://cdn.shopclues.com/images1/thumbnails/108322/280/1/150281783-108322002-1683873156.jpg'], 'discount': '46% Off'}\n",
      "2023-11-13 17:29:23 [scrapy.core.scraper] DEBUG: Scraped from <200 https://www.shopclues.com/mobiles-and-tablets.html>\n",
      "{'title': '(Refurbished) Nokia 1616 (Single Sim, 1.8 inches Display, Assorted Color) Superb Condition, Like New', 'price': '₹1,239                                    ', 'image_urls': ['https://cdn.shopclues.com/images1/thumbnails/111108/280/1/151123988-111108418-1685355442.jpg'], 'discount': '46% Off'}\n",
      "2023-11-13 17:29:23 [scrapy.core.scraper] DEBUG: Scraped from <200 https://www.shopclues.com/mobiles-and-tablets.html>\n",
      "{'title': '(Refurbished) Nokia 1600 (Single SIM, 1.4 Inch Display, Black) - Superb Condition, Like New', 'price': '₹1,219                                    ', 'image_urls': ['https://cdn.shopclues.com/images1/thumbnails/108325/280/1/150283110-108325296-1685352475.jpg'], 'discount': '47% Off'}\n",
      "2023-11-13 17:29:23 [scrapy.core.scraper] DEBUG: Scraped from <200 https://www.shopclues.com/mobiles-and-tablets.html>\n",
      "{'title': 'Pear P312 1.8 inches (4.57 cm) Dual Sim Feature Phone', 'price': '₹729                                    ', 'image_urls': ['https://cdn.shopclues.com/images1/thumbnails/95955/280/1/143119226-95955167-1665754088.jpg'], 'discount': '27% Off'}\n",
      "2023-11-13 17:29:23 [scrapy.core.engine] INFO: Closing spider (finished)\n",
      "2023-11-13 17:29:23 [scrapy.extensions.feedexport] INFO: Stored csv feed (24 items) in: shopclues.csv\n",
      "2023-11-13 17:29:23 [scrapy.statscollectors] INFO: Dumping Scrapy stats:\n",
      "{'downloader/request_bytes': 513,\n",
      " 'downloader/request_count': 2,\n",
      " 'downloader/request_method_count/GET': 2,\n",
      " 'downloader/response_bytes': 330083,\n",
      " 'downloader/response_count': 2,\n",
      " 'downloader/response_status_count/200': 1,\n",
      " 'downloader/response_status_count/302': 1,\n",
      " 'elapsed_time_seconds': 1.912306,\n",
      " 'feedexport/success_count/FileFeedStorage': 1,\n",
      " 'finish_reason': 'finished',\n",
      " 'finish_time': datetime.datetime(2023, 11, 13, 22, 29, 23, 877393, tzinfo=datetime.timezone.utc),\n",
      " 'item_scraped_count': 24,\n",
      " 'log_count/DEBUG': 27,\n",
      " 'log_count/INFO': 11,\n",
      " 'log_count/WARNING': 2,\n",
      " 'memusage/max': 85848064,\n",
      " 'memusage/startup': 85848064,\n",
      " 'response_received_count': 1,\n",
      " 'scheduler/dequeued': 2,\n",
      " 'scheduler/dequeued/memory': 2,\n",
      " 'scheduler/enqueued': 2,\n",
      " 'scheduler/enqueued/memory': 2,\n",
      " 'start_time': datetime.datetime(2023, 11, 13, 22, 29, 21, 965087, tzinfo=datetime.timezone.utc)}\n",
      "2023-11-13 17:29:23 [scrapy.core.engine] INFO: Spider closed (finished)\n"
     ]
    }
   ],
   "source": [
    "!python shopclues_spider.py"
   ]
  },
  {
   "cell_type": "markdown",
   "id": "d058c6a6-ac49-40fe-b753-77b70cc78e13",
   "metadata": {},
   "source": [
    "## Post-Execution\n",
    "After running the above command, the spider will scrape the data from Shopclues' website and save it in the `shopclues.csv` file. This file can then be used for data analysis, reporting, or any other desired purpose.\n"
   ]
  },
  {
   "cell_type": "markdown",
   "id": "2dbd63eb-d4f9-4ff7-9706-3ad6a8c8cb4a",
   "metadata": {},
   "source": [
    "## Defining Scrapy Item for TechCrunch\n",
    "This section involves defining a Scrapy `Item` class named `TechcrunchItem`. This class specifies the data structure for storing scraped data, including fields like title, link, and description, which we aim to extract from TechCrunch's feed.\n"
   ]
  },
  {
   "cell_type": "code",
   "execution_count": 19,
   "id": "0cc080f2-2974-4399-a7e5-0df18fe78ef4",
   "metadata": {
    "tags": []
   },
   "outputs": [],
   "source": [
    "import scrapy\n",
    "\n",
    "# Define a Scrapy Item class for TechCrunch\n",
    "class TechcrunchItem(scrapy.Item):\n",
    "    title = scrapy.Field() # Field to store the title of the article\n",
    "    link = scrapy.Field()  # Field to store the link of the article\n",
    "    description = scrapy.Field() # Field to store the description of the article\n"
   ]
  },
  {
   "cell_type": "markdown",
   "id": "220c4c60-9113-4f75-bafb-9bff0d5540a5",
   "metadata": {},
   "source": [
    "## Creating TechCrunch Spider Script\n",
    "Here we write a Python script `techcrunch_spider.py` defining a Scrapy spider for scraping articles from TechCrunch's feed. The spider, named `TechcrunchSpider`, will extract the title, link, and description of each post.\n"
   ]
  },
  {
   "cell_type": "code",
   "execution_count": 20,
   "id": "11dae7b7-54a2-41dd-baf9-acdb7de05190",
   "metadata": {
    "tags": []
   },
   "outputs": [
    {
     "name": "stdout",
     "output_type": "stream",
     "text": [
      "Writing techcrunch_spider.py\n"
     ]
    }
   ],
   "source": [
    "%%writefile techcrunch_spider.py\n",
    "import scrapy\n",
    "from scrapy.crawler import CrawlerProcess\n",
    "\n",
    "# Define the Scrapy spider for TechCrunch\n",
    "class TechcrunchSpider(scrapy.Spider):\n",
    "    name = 'techcrunch' # Name of the spider\n",
    "    allowed_domains = ['techcrunch.com'] # Domain to scrape\n",
    "    start_urls = ['https://techcrunch.com/feed/'] # Starting URL\n",
    "\n",
    "    def parse(self, response):\n",
    "        # Parsing the response and yielding scraped data\n",
    "        for post in response.xpath('//item'):\n",
    "            yield {\n",
    "                'title': post.xpath('title/text()').get(), # Extract title\n",
    "                'link': post.xpath('link/text()').get(), # Extract link\n",
    "                'description': post.xpath('description/text()').get() # Extract description\n",
    "            }"
   ]
  },
  {
   "cell_type": "code",
   "execution_count": 21,
   "id": "fae6f88c-e18d-4554-8ed4-e1f23de7f628",
   "metadata": {
    "tags": []
   },
   "outputs": [
    {
     "name": "stdout",
     "output_type": "stream",
     "text": [
      "2023-11-13 17:37:04 [scrapy.utils.log] INFO: Scrapy 2.11.0 started (bot: scrapybot)\n",
      "2023-11-13 17:37:04 [scrapy.utils.log] INFO: Versions: lxml 4.9.3.0, libxml2 2.10.3, cssselect 1.2.0, parsel 1.8.1, w3lib 2.1.2, Twisted 22.10.0, Python 3.11.3 | packaged by conda-forge | (main, Apr  6 2023, 08:57:19) [GCC 11.3.0], pyOpenSSL 23.2.0 (OpenSSL 3.1.1 30 May 2023), cryptography 41.0.1, Platform Linux-5.15.0-78-generic-x86_64-with-glibc2.35\n",
      "2023-11-13 17:37:04 [scrapy.addons] INFO: Enabled addons:\n",
      "[]\n",
      "2023-11-13 17:37:04 [py.warnings] WARNING: /opt/conda/lib/python3.11/site-packages/scrapy/utils/request.py:254: ScrapyDeprecationWarning: '2.6' is a deprecated value for the 'REQUEST_FINGERPRINTER_IMPLEMENTATION' setting.\n",
      "\n",
      "It is also the default value. In other words, it is normal to get this warning if you have not defined a value for the 'REQUEST_FINGERPRINTER_IMPLEMENTATION' setting. This is so for backward compatibility reasons, but it will change in a future version of Scrapy.\n",
      "\n",
      "See the documentation of the 'REQUEST_FINGERPRINTER_IMPLEMENTATION' setting for information on how to handle this deprecation.\n",
      "  return cls(crawler)\n",
      "\n",
      "2023-11-13 17:37:04 [scrapy.utils.log] DEBUG: Using reactor: twisted.internet.epollreactor.EPollReactor\n",
      "2023-11-13 17:37:04 [scrapy.extensions.telnet] INFO: Telnet Password: 19e3dcc2e35da8c2\n",
      "2023-11-13 17:37:04 [scrapy.middleware] INFO: Enabled extensions:\n",
      "['scrapy.extensions.corestats.CoreStats',\n",
      " 'scrapy.extensions.telnet.TelnetConsole',\n",
      " 'scrapy.extensions.memusage.MemoryUsage',\n",
      " 'scrapy.extensions.feedexport.FeedExporter',\n",
      " 'scrapy.extensions.logstats.LogStats']\n",
      "2023-11-13 17:37:04 [scrapy.crawler] INFO: Overridden settings:\n",
      "{'EDITOR': 'nano', 'SPIDER_LOADER_WARN_ONLY': True}\n",
      "2023-11-13 17:37:04 [scrapy.middleware] INFO: Enabled downloader middlewares:\n",
      "['scrapy.downloadermiddlewares.httpauth.HttpAuthMiddleware',\n",
      " 'scrapy.downloadermiddlewares.downloadtimeout.DownloadTimeoutMiddleware',\n",
      " 'scrapy.downloadermiddlewares.defaultheaders.DefaultHeadersMiddleware',\n",
      " 'scrapy.downloadermiddlewares.useragent.UserAgentMiddleware',\n",
      " 'scrapy.downloadermiddlewares.retry.RetryMiddleware',\n",
      " 'scrapy.downloadermiddlewares.redirect.MetaRefreshMiddleware',\n",
      " 'scrapy.downloadermiddlewares.httpcompression.HttpCompressionMiddleware',\n",
      " 'scrapy.downloadermiddlewares.redirect.RedirectMiddleware',\n",
      " 'scrapy.downloadermiddlewares.cookies.CookiesMiddleware',\n",
      " 'scrapy.downloadermiddlewares.httpproxy.HttpProxyMiddleware',\n",
      " 'scrapy.downloadermiddlewares.stats.DownloaderStats']\n",
      "2023-11-13 17:37:04 [scrapy.middleware] INFO: Enabled spider middlewares:\n",
      "['scrapy.spidermiddlewares.httperror.HttpErrorMiddleware',\n",
      " 'scrapy.spidermiddlewares.offsite.OffsiteMiddleware',\n",
      " 'scrapy.spidermiddlewares.referer.RefererMiddleware',\n",
      " 'scrapy.spidermiddlewares.urllength.UrlLengthMiddleware',\n",
      " 'scrapy.spidermiddlewares.depth.DepthMiddleware']\n",
      "2023-11-13 17:37:04 [scrapy.middleware] INFO: Enabled item pipelines:\n",
      "[]\n",
      "2023-11-13 17:37:04 [scrapy.core.engine] INFO: Spider opened\n",
      "2023-11-13 17:37:04 [scrapy.extensions.logstats] INFO: Crawled 0 pages (at 0 pages/min), scraped 0 items (at 0 items/min)\n",
      "2023-11-13 17:37:04 [scrapy.extensions.telnet] INFO: Telnet console listening on 127.0.0.1:6023\n",
      "2023-11-13 17:37:05 [scrapy.core.engine] DEBUG: Crawled (200) <GET https://techcrunch.com/feed/> (referer: None)\n",
      "2023-11-13 17:37:05 [scrapy.core.scraper] DEBUG: Scraped from <200 https://techcrunch.com/feed/>\n",
      "{'title': '‘Deepwashing’ risks dampening progress in European climate tech investing', 'link': 'https://techcrunch.com/2023/11/13/deepwashing-risks-dampening-progress-in-european-climate-tech-investing/', 'description': '<p>Craig Douglas Contributor Craig Douglas is a partner at World Fund and an adviser to the EU Commission on Energy policy. World Fund invests in climate technologies with significant climate performance potential (CPP). Today, deep tech companies — companies creating cutting-edge, transformative technologies based on scientific breakthroughs and R&#38;D, and bringing them to market — [&#8230;]</p>\\n<p>© 2023 TechCrunch. All rights reserved. For personal use only.</p>\\n'}\n",
      "2023-11-13 17:37:05 [scrapy.core.scraper] DEBUG: Scraped from <200 https://techcrunch.com/feed/>\n",
      "{'title': 'Exxon wants to drill enough lithium out of Arkansas to power 1M EVs per year', 'link': 'https://techcrunch.com/2023/11/13/exxon-wants-to-drill-enough-lithium-out-of-arkansas-to-power-1m-evs-per-year/', 'description': '<p>Fossil fuel giant Exxon is betting its U.S. lithium operation will power a new generation of electric cars. The U.S. has hundreds of thousands on tons of &#8220;recoverable&#8221; lithium, which could go to use in batteries for cars, handhelds and renewable energy storage, a 2021 U.S. Geological Survey said. Yet, the country has just one [&#8230;]</p>\\n<p>© 2023 TechCrunch. All rights reserved. For personal use only.</p>\\n'}\n",
      "2023-11-13 17:37:05 [scrapy.core.scraper] DEBUG: Scraped from <200 https://techcrunch.com/feed/>\n",
      "{'title': 'Obskur’s Character Creator and marketplace streamlines VTubing', 'link': 'https://techcrunch.com/2023/11/13/obskur-character-creator-vtuber-marketplace/', 'description': '<p>To stream as their ethereal alter ego, Mai, a VTuber known as M41H41, typically had to juggle at least four to seven different programs. Running all of them at once, however, was both mentally exhausting and a burden on their computer, which could overheat mid-stream. If a program crashed, they’d have to break character to [&#8230;]</p>\\n<p>© 2023 TechCrunch. All rights reserved. For personal use only.</p>\\n'}\n",
      "2023-11-13 17:37:05 [scrapy.core.scraper] DEBUG: Scraped from <200 https://techcrunch.com/feed/>\n",
      "{'title': 'Use LinkedIn to raise a Series A', 'link': 'https://techcrunch.com/2023/11/13/use-linkedin-to-raise-a-series-a/', 'description': '<p>Not every request will result in a new connection, but with patience and consistency, your pool of investors will begin to grow.</p>\\n<p>© 2023 TechCrunch. All rights reserved. For personal use only.</p>\\n'}\n",
      "2023-11-13 17:37:05 [scrapy.core.scraper] DEBUG: Scraped from <200 https://techcrunch.com/feed/>\n",
      "{'title': 'Joby, Volocopter fly electric air taxis over New York City', 'link': 'https://techcrunch.com/2023/11/13/joby-volocopter-fly-electric-air-taxis-over-new-york-city/', 'description': '<p>Joby Aviation and Volocopter gave the public a vivid glimpse of what the future of aviation might look like this weekend, with both companies performing brief demonstration flights of their electric aircraft in New York City. The demonstration flights were conducted during a press conference on Sunday, during which New York City Mayor Eric Adams [&#8230;]</p>\\n<p>© 2023 TechCrunch. All rights reserved. For personal use only.</p>\\n'}\n",
      "2023-11-13 17:37:05 [scrapy.core.scraper] DEBUG: Scraped from <200 https://techcrunch.com/feed/>\n",
      "{'title': 'Uber takes steps to combat unfair driver deactivations', 'link': 'https://techcrunch.com/2023/11/13/uber-takes-steps-to-combat-unfair-driver-deactivations/', 'description': '<p>Uber is introducing new features geared toward addressing the issues of unfair deactivations that ride-hail and delivery drivers often face. Starting Monday across the U.S., Uber will roll out a technology that identifies riders or Uber Eats customers who consistently give bad ratings or feedback with the intent of getting a refund. Allegations by those [&#8230;]</p>\\n<p>© 2023 TechCrunch. All rights reserved. For personal use only.</p>\\n'}\n",
      "2023-11-13 17:37:05 [scrapy.core.scraper] DEBUG: Scraped from <200 https://techcrunch.com/feed/>\n",
      "{'title': 'After six quarters of falling venture interest, crypto investors see recent price gains as positive signal', 'link': 'https://techcrunch.com/2023/11/13/crypto-investors-optimism/', 'description': '<p>Investors are getting back in the groove of investing in web3, crypto and blockchain technology.</p>\\n<p>© 2023 TechCrunch. All rights reserved. For personal use only.</p>\\n'}\n",
      "2023-11-13 17:37:05 [scrapy.core.scraper] DEBUG: Scraped from <200 https://techcrunch.com/feed/>\n",
      "{'title': 'This VC firm thinks that AI automation could resurrect startup valuations', 'link': 'https://techcrunch.com/2023/11/13/battery-ventures-startup-valuations/', 'description': '<p>If the savings are even half as good as Battery seems to think that they may prove, startups could be in for a more efficient, and more valuable, future.</p>\\n<p>© 2023 TechCrunch. All rights reserved. For personal use only.</p>\\n'}\n",
      "2023-11-13 17:37:05 [scrapy.core.scraper] DEBUG: Scraped from <200 https://techcrunch.com/feed/>\n",
      "{'title': 'Elon Musk says X is changing its algorithm to highlight smaller accounts', 'link': 'https://techcrunch.com/2023/11/13/elon-musk-says-x-is-changing-its-algorithm-to-highlight-smaller-accounts/', 'description': '<p>The company formerly known as Twitter is preparing to roll out a &#8220;major update&#8221; to its algorithm, according to a recent post by X owner Elon Musk. While today the app&#8217;s For You feed surfaces popular and trending posts from its broader network alongside highlights from those you follow, the new algorithm will surface posts [&#8230;]</p>\\n<p>© 2023 TechCrunch. All rights reserved. For personal use only.</p>\\n'}\n",
      "2023-11-13 17:37:05 [scrapy.core.scraper] DEBUG: Scraped from <200 https://techcrunch.com/feed/>\n",
      "{'title': 'Healthcare giant McLaren reveals data on 2.2 million patients stolen during ransomware attack', 'link': 'https://techcrunch.com/2023/11/13/mclaren-cyberattack-millions-patients-ransomware/', 'description': '<p>Michigan-based McLaren Health Care has confirmed that the sensitive personal and health information of 2.2 million patients was compromised during a cyberattack earlier this year. A ransomware gang later took credit for the cyberattack. In a new data breach notice filed with Maine&#8217;s attorney general, McLaren said hackers were in its systems for three weeks [&#8230;]</p>\\n<p>© 2023 TechCrunch. All rights reserved. For personal use only.</p>\\n'}\n",
      "2023-11-13 17:37:05 [scrapy.core.scraper] DEBUG: Scraped from <200 https://techcrunch.com/feed/>\n",
      "{'title': 'WhatsApp launches a new Discord-like voice chat feature for large groups', 'link': 'https://techcrunch.com/2023/11/13/whatsapp-launches-new-discord-like-voice-chat-feature-large-groups/', 'description': '<p>WhatsApp is rolling out a new Discord-like voice chat feature for large groups, the Meta-owned company announced on Monday. The new feature is designed to be less disruptive than a group call, which rings every member in a group. Voice chats are started quietly without any ringing involved with an in-chat bubble that you tap [&#8230;]</p>\\n<p>© 2023 TechCrunch. All rights reserved. For personal use only.</p>\\n'}\n",
      "2023-11-13 17:37:05 [scrapy.core.scraper] DEBUG: Scraped from <200 https://techcrunch.com/feed/>\n",
      "{'title': 'Salesforce names Denise Dresser to succeed Lidiane Jones as CEO of Slack', 'link': 'https://techcrunch.com/2023/11/13/salesforce-names-denise-dresser-to-succeed-lidiane-jones-as-ceo-of-slack/', 'description': '<p>As promised last week, Salesforce announced the replacement today for Slack CEO Lidiane Jones, who stepped down last week after 10 months on the job to become CEO at dating app Bumble. In a post on X (the social platform formerly known as Twitter) this morning, Salesforce CEO Marc Benioff announced that Denise Dresser, a [&#8230;]</p>\\n<p>© 2023 TechCrunch. All rights reserved. For personal use only.</p>\\n'}\n",
      "2023-11-13 17:37:05 [scrapy.core.scraper] DEBUG: Scraped from <200 https://techcrunch.com/feed/>\n",
      "{'title': 'Threads now lets users opt out of having their posts appear on Facebook and Instagram', 'link': 'https://techcrunch.com/2023/11/13/threads-now-lets-users-opt-out-of-having-their-posts-appear-on-facebook-and-instagram/', 'description': '<p>In response to user feedback, Instagram&#8217;s Threads will now let users turn off automatic sharing of their Threads posts to other apps, including Instagram and Facebook &#8212; a move that had not gone down well with Threads users. Hoping to gain more traction and interest in its Twitter/X rival, Meta in late August began displaying [&#8230;]</p>\\n<p>© 2023 TechCrunch. All rights reserved. For personal use only.</p>\\n'}\n",
      "2023-11-13 17:37:05 [scrapy.core.scraper] DEBUG: Scraped from <200 https://techcrunch.com/feed/>\n",
      "{'title': 'Are we at the start of a new crypto bull cycle?', 'link': 'https://techcrunch.com/2023/11/13/are-we-at-the-start-of-a-new-crypto-bull-cycle/', 'description': '<p>Welcome back to\\xa0Equity, the podcast about the business of startups, where we unpack the numbers and nuance behind the headlines. Our Monday show covers news from the weekend and the week to come.</p>\\n<p>© 2023 TechCrunch. All rights reserved. For personal use only.</p>\\n'}\n",
      "2023-11-13 17:37:05 [scrapy.core.scraper] DEBUG: Scraped from <200 https://techcrunch.com/feed/>\n",
      "{'title': 'More from the US v Google trial: Vertical search, pre-installs and the case of Firefox/Yahoo', 'link': 'https://techcrunch.com/2023/11/13/more-from-the-us-v-google-trial-vertical-search-pre-installs-and-the-case-of-firefox-yahoo/', 'description': '<p>We&#8217;re nearly two months into the Justice Department’s landmark antitrust case against Google &#8212; one of the biggest fights in tech antitrust since the U.S. took Microsoft to trial in the 1990s &#8212; and the revelations just keep getting juicier. In our last roundup, we learned how Google spent $26.3 billion in 2021 making itself [&#8230;]</p>\\n<p>© 2023 TechCrunch. All rights reserved. For personal use only.</p>\\n'}\n",
      "2023-11-13 17:37:05 [scrapy.core.scraper] DEBUG: Scraped from <200 https://techcrunch.com/feed/>\n",
      "{'title': 'Dating app Hatched brings its hidden profile concept to the East Coast, launches new paid features', 'link': 'https://techcrunch.com/2023/11/13/dating-app-hatched-brings-its-hidden-profile-concept-to-the-east-coast-launches-new-paid-features/', 'description': '<p>Sometimes, online dating isn’t all it’s cracked up to be. Hatched wants to scramble it up with its unique gamified user experience. Instead of using profile pictures, the dating app shows potential matches depicted as eggs, and the only way to see what they look like is by answering personality-driven questions, slowly opening the shell. [&#8230;]</p>\\n<p>© 2023 TechCrunch. All rights reserved. For personal use only.</p>\\n'}\n",
      "2023-11-13 17:37:05 [scrapy.core.scraper] DEBUG: Scraped from <200 https://techcrunch.com/feed/>\n",
      "{'title': 'Interplay secures $45M for third fund focused on B2B marketplaces, vertical software', 'link': 'https://techcrunch.com/2023/11/13/interplay-fund-venture-capital-b2b-marketplaces-vertical-software/', 'description': '<p>Mark Peter Davis, Interplay founder and managing partner, says the firm stands out with its outsized value proposition relative to its check size.</p>\\n<p>© 2023 TechCrunch. All rights reserved. For personal use only.</p>\\n'}\n",
      "2023-11-13 17:37:05 [scrapy.core.scraper] DEBUG: Scraped from <200 https://techcrunch.com/feed/>\n",
      "{'title': 'The best tech gifts under $50 to consider in 2023', 'link': 'https://techcrunch.com/2023/11/13/the-best-tech-gifts-under-50-to-consider-in-2023/', 'description': '<p>If you’re looking for a gift for someone but don’t want to break the bank, there are a number of great gadgets you can choose from. This list includes a selection of budget-friendly gift ideas, ranging from Bluetooth trackers and wireless earbuds, to smart home accessories. I personally use most of the items on this [&#8230;]</p>\\n<p>© 2023 TechCrunch. All rights reserved. For personal use only.</p>\\n'}\n",
      "2023-11-13 17:37:05 [scrapy.core.scraper] DEBUG: Scraped from <200 https://techcrunch.com/feed/>\n",
      "{'title': 'Shekel Mobility, a B2B marketplace for auto dealers in Africa, raises $7M led by Ventures Platform and MaC VC', 'link': 'https://techcrunch.com/2023/11/13/shekel-mobility-a-b2b-marketplace-for-auto-dealers-in-africa-raises-7m-led-by-ventures-platform-and-mac-vc/', 'description': '<p>The World Economic Forum states that Africa has an average annual demand for 2.4 million cars and 300,000 commercial vehicles. This demand is increasing because of a continent-wide increase in disposable income, strong middle-class growth and rapid urbanization. But while most cars meeting this demand are used, car ownership in Africa is less than 45 [&#8230;]</p>\\n<p>© 2023 TechCrunch. All rights reserved. For personal use only.</p>\\n'}\n",
      "2023-11-13 17:37:05 [scrapy.core.scraper] DEBUG: Scraped from <200 https://techcrunch.com/feed/>\n",
      "{'title': 'Cruise spirals and LTA’s airship breaks cover in Silicon Valley', 'link': 'https://techcrunch.com/2023/11/12/cruise-spirals-and-ltas-airship-breaks-cover-in-silicon-valley/', 'description': '<p>The Station is a weekly newsletter dedicated to all things transportation.\\xa0Sign up here —\\xa0just click The Station\\xa0— to receive the newsletter every weekend in your inbox. Subscribe for free. Welcome back to The Station, your central hub for all past, present and future means of moving people and packages from Point A to Point B. [&#8230;]</p>\\n<p>© 2023 TechCrunch. All rights reserved. For personal use only.</p>\\n'}\n",
      "2023-11-13 17:37:05 [scrapy.core.engine] INFO: Closing spider (finished)\n",
      "2023-11-13 17:37:05 [scrapy.extensions.feedexport] INFO: Stored csv feed (20 items) in: techcrunch.csv\n",
      "2023-11-13 17:37:05 [scrapy.statscollectors] INFO: Dumping Scrapy stats:\n",
      "{'downloader/request_bytes': 226,\n",
      " 'downloader/request_count': 1,\n",
      " 'downloader/request_method_count/GET': 1,\n",
      " 'downloader/response_bytes': 8349,\n",
      " 'downloader/response_count': 1,\n",
      " 'downloader/response_status_count/200': 1,\n",
      " 'elapsed_time_seconds': 0.226634,\n",
      " 'feedexport/success_count/FileFeedStorage': 1,\n",
      " 'finish_reason': 'finished',\n",
      " 'finish_time': datetime.datetime(2023, 11, 13, 22, 37, 5, 135926, tzinfo=datetime.timezone.utc),\n",
      " 'httpcompression/response_bytes': 22800,\n",
      " 'httpcompression/response_count': 1,\n",
      " 'item_scraped_count': 20,\n",
      " 'log_count/DEBUG': 22,\n",
      " 'log_count/INFO': 11,\n",
      " 'log_count/WARNING': 1,\n",
      " 'memusage/max': 85868544,\n",
      " 'memusage/startup': 85868544,\n",
      " 'response_received_count': 1,\n",
      " 'scheduler/dequeued': 1,\n",
      " 'scheduler/dequeued/memory': 1,\n",
      " 'scheduler/enqueued': 1,\n",
      " 'scheduler/enqueued/memory': 1,\n",
      " 'start_time': datetime.datetime(2023, 11, 13, 22, 37, 4, 909292, tzinfo=datetime.timezone.utc)}\n",
      "2023-11-13 17:37:05 [scrapy.core.engine] INFO: Spider closed (finished)\n"
     ]
    }
   ],
   "source": [
    "!scrapy runspider techcrunch_spider.py -o techcrunch.csv"
   ]
  },
  {
   "cell_type": "code",
   "execution_count": null,
   "id": "20c8e27c-46f6-41f0-be5e-e98edf6fe2a6",
   "metadata": {},
   "outputs": [],
   "source": []
  }
 ],
 "metadata": {
  "kernelspec": {
   "display_name": "Python 3 (ipykernel)",
   "language": "python",
   "name": "python3"
  },
  "language_info": {
   "codemirror_mode": {
    "name": "ipython",
    "version": 3
   },
   "file_extension": ".py",
   "mimetype": "text/x-python",
   "name": "python",
   "nbconvert_exporter": "python",
   "pygments_lexer": "ipython3",
   "version": "3.11.3"
  }
 },
 "nbformat": 4,
 "nbformat_minor": 5
}
